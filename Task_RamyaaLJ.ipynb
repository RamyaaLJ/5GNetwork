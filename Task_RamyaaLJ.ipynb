{
 "cells": [
  {
   "cell_type": "code",
   "execution_count": 12,
   "id": "e240f43c",
   "metadata": {},
   "outputs": [
    {
     "name": "stdout",
     "output_type": "stream",
     "text": [
      "Overall Gross Margin: 1207.1999999999998\n"
     ]
    }
   ],
   "source": [
    "import pandas as pd\n",
    "df = pd.read_csv('sales_data_1.csv')  # Replace 'sales_data_1.csv' with your actual file name\n",
    "\n",
    "overall_gross_margin = (df[\"Selling price\"] - df[\"Buying price\"]).sum()\n",
    "print(\"Overall Gross Margin:\",overall_gross_margin)"
   ]
  },
  {
   "cell_type": "code",
   "execution_count": 13,
   "id": "624785fc",
   "metadata": {},
   "outputs": [
    {
     "name": "stdout",
     "output_type": "stream",
     "text": [
      "Maximum profitable Vendor in the given dataset is: Vendor7\n"
     ]
    }
   ],
   "source": [
    "#2\n",
    "vendor_profit = df.groupby(\"Firm bought from\")[\"Selling price\"].sum() - df.groupby(\"Firm bought from\")[\"Buying price\"].sum()\n",
    "max_profitable_vendor = vendor_profit.idxmax()\n",
    "print(\"Maximum profitable Vendor in the given dataset is: \",most_profitable_vendor)"
   ]
  },
  {
   "cell_type": "code",
   "execution_count": 14,
   "id": "261c4240",
   "metadata": {},
   "outputs": [
    {
     "name": "stdout",
     "output_type": "stream",
     "text": [
      "Minimum profitable customer in the given dataset is Customer9\n"
     ]
    }
   ],
   "source": [
    "#3\n",
    "profit_of_customer = df.groupby(\"Customer\")[\"Selling price\"].sum() - df.groupby(\"Customer\")[\"Buying price\"].sum()\n",
    "min_profitable_customer = profit_of_customer.idxmin()\n",
    "print(\"Minimum profitable customer in the given dataset is: \",min_profitable_customer)"
   ]
  },
  {
   "cell_type": "code",
   "execution_count": 16,
   "id": "03a5bb5e",
   "metadata": {},
   "outputs": [
    {
     "name": "stdout",
     "output_type": "stream",
     "text": [
      "Most profitable day in the given datset is: Monday\n"
     ]
    }
   ],
   "source": [
    "#4\n",
    "df[\"Date\"] = pd.to_datetime(df[\"Date\"])\n",
    "df[\"Day of Week\"] = df[\"Date\"].dt.day_name()\n",
    "profit_day = df.groupby(\"Day of Week\")[\"Selling price\"].sum() - df.groupby(\"Day of Week\")[\"Buying price\"].sum()\n",
    "profitable_day = profit_day.idxmax()\n",
    "print(\"Most profitable day in the given datset is:\",profitable_day)"
   ]
  },
  {
   "cell_type": "code",
   "execution_count": 17,
   "id": "40e2abe2",
   "metadata": {},
   "outputs": [
    {
     "name": "stdout",
     "output_type": "stream",
     "text": [
      "Minimum profitable day in the given datset is: Thursday\n"
     ]
    }
   ],
   "source": [
    "#5\n",
    "profitable_day_min = day_profit.idxmin()\n",
    "print(\"Minimum profitable day in the given datset is:\",profitable_day_min)"
   ]
  },
  {
   "cell_type": "code",
   "execution_count": 18,
   "id": "d62d2bf3",
   "metadata": {},
   "outputs": [],
   "source": [
    "#2ND DATASET\n",
    "df = pd.read_csv(\"sales_data_2.csv\")\n",
    "\n",
    "# Convert the 'Date' column to datetime if it's not already\n",
    "df['Date'] = pd.to_datetime(df['Date'])\n",
    "\n",
    "# Calculate the daily gross profit\n",
    "df['Daily Gross Profit'] = df['Selling price'] - df['Buying price']\n",
    "\n",
    "# Calculate the 3-day rolling average of daily gross profit\n",
    "df['3-Day Avg Gross Profit'] = df['Daily Gross Profit'].rolling(window=3).mean()"
   ]
  },
  {
   "cell_type": "code",
   "execution_count": 21,
   "id": "89620da0",
   "metadata": {},
   "outputs": [
    {
     "name": "stdout",
     "output_type": "stream",
     "text": [
      "\n",
      "Percentiles for Buying and Selling Prices:\n",
      "25th Percentile:\n",
      "Buying price     29.900\n",
      "Selling price    38.975\n",
      "Name: 0.25, dtype: float64\n",
      "\n",
      "Median (50th Percentile):\n",
      "Buying price     60.76\n",
      "Selling price    78.99\n",
      "Name: 0.5, dtype: float64\n",
      "\n",
      "75th Percentile:\n",
      "Buying price      78.3200\n",
      "Selling price    103.3975\n",
      "Name: 0.75, dtype: float64\n"
     ]
    }
   ],
   "source": [
    "percentile = df[['Buying price', 'Selling price']].quantile([0.25, 0.5, 0.75])\n",
    "print(\"\\nPercentiles for Buying and Selling Prices:\")\n",
    "print(\"25th Percentile:\")\n",
    "print(percentile.loc[0.25])\n",
    "print(\"\\nMedian (50th Percentile):\")\n",
    "print(percentile.loc[0.5])\n",
    "print(\"\\n75th Percentile:\")\n",
    "print(percentile.loc[0.75])\n"
   ]
  },
  {
   "cell_type": "code",
   "execution_count": 22,
   "id": "70d425f9",
   "metadata": {},
   "outputs": [
    {
     "name": "stdout",
     "output_type": "stream",
     "text": [
      "\n",
      "Frequency of Prices Below 25th Percentile: 18\n",
      "\n",
      "Frequency of Prices Above 75th Percentile: 18\n"
     ]
    }
   ],
   "source": [
    "# 5\n",
    "below25 = df[df['Selling price'] < percentiles.loc[0.25]['Selling price']]\n",
    "above75 = df[df['Selling price'] > percentiles.loc[0.75]['Selling price']]\n",
    "\n",
    "print(\"\\nFrequency of Prices Below 25th Percentile:\",len(below25))\n",
    "print(\"\\nFrequency of Prices Above 75th Percentile:\",len(above75))\n"
   ]
  },
  {
   "cell_type": "code",
   "execution_count": null,
   "id": "ced7eeeb",
   "metadata": {},
   "outputs": [],
   "source": []
  }
 ],
 "metadata": {
  "kernelspec": {
   "display_name": "Python 3 (ipykernel)",
   "language": "python",
   "name": "python3"
  },
  "language_info": {
   "codemirror_mode": {
    "name": "ipython",
    "version": 3
   },
   "file_extension": ".py",
   "mimetype": "text/x-python",
   "name": "python",
   "nbconvert_exporter": "python",
   "pygments_lexer": "ipython3",
   "version": "3.11.3"
  }
 },
 "nbformat": 4,
 "nbformat_minor": 5
}
